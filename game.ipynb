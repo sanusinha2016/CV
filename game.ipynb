{
 "cells": [
  {
   "cell_type": "code",
   "execution_count": null,
   "metadata": {},
   "outputs": [],
   "source": [
    "pip install imgaug\n",
    "pip install ipyplot\n"
   ]
  },
  {
   "cell_type": "code",
   "execution_count": null,
   "metadata": {},
   "outputs": [],
   "source": [
    "import imageio\n",
    "import imgaug as ia\n",
    "import imgaug.augmenters as iaa\n",
    "import ipyplot  # Import ipyplot\n",
    "\n",
    "# input_img = imageio.imread('https://raw.githubusercontent.com/saga1209/CA3/main/bird.jpg')\n",
    "input_img = imageio.imread('https://i.pinimg.com/originals/68/8e/ca/688eca5c93d6ffc511da3d1fbbaac0c7.jpg')"
   ]
  },
  {
   "cell_type": "code",
   "execution_count": null,
   "metadata": {},
   "outputs": [],
   "source": [
    "#Horizontal Flip\n",
    "hflip= iaa.Fliplr(p=1.0)\n",
    "input_hf= hflip.augment_image(input_img)\n",
    "#Vertical Flip\n",
    "vflip= iaa.Flipud(p=1.0) \n",
    "input_vf= vflip.augment_image(input_img)\n",
    "images_list=[input_img, input_hf, input_vf]\n",
    "labels = ['Original', 'Horizontally flipped', 'Vertically flipped']\n",
    "ipyplot.plot_images(images_list,labels=labels,img_width=180)\n"
   ]
  },
  {
   "cell_type": "code",
   "execution_count": null,
   "metadata": {},
   "outputs": [],
   "source": [
    "\n",
    "# Image Rotation\n",
    "\n",
    "\n",
    "rot1 = iaa.Affine(rotate=(-50,20))\n",
    "input_rot1 = rot1.augment_image(input_img)\n",
    "images_list=[input_img, input_rot1]\n",
    "labels = ['Original', 'Rotated Image']\n",
    "ipyplot.plot_images(images_list,labels=labels,img_width=180)"
   ]
  },
  {
   "cell_type": "code",
   "execution_count": null,
   "metadata": {},
   "outputs": [],
   "source": [
    "# Image Cropping\n",
    "\n",
    "crop1 = iaa.Crop(percent=(0, 0.3)) \n",
    "input_crop1 = crop1.augment_image(input_img)\n",
    "images_list=[input_img, input_crop1]\n",
    "labels = ['Original', 'Cropped Image']\n",
    "ipyplot.plot_images(images_list,labels=labels,img_width=180)"
   ]
  },
  {
   "cell_type": "code",
   "execution_count": null,
   "metadata": {},
   "outputs": [],
   "source": [
    "# Adding Noise to Images\n",
    "noise=iaa.AdditiveGaussianNoise(10,40)\n",
    "input_noise=noise.augment_image(input_img)\n",
    "images_list=[input_img, input_noise]\n",
    "labels = ['Original', 'Gaussian Noise Image']\n",
    "ipyplot.plot_images(images_list,labels=labels,img_width=180)"
   ]
  },
  {
   "cell_type": "code",
   "execution_count": null,
   "metadata": {},
   "outputs": [],
   "source": [
    "# Image Shearing\n",
    "shear = iaa.Affine(shear=(-40,40))\n",
    "input_shear=shear.augment_image(input_img)\n",
    "images_list=[input_img, input_shear]\n",
    "labels = ['Original', 'Image Shearing']\n",
    "ipyplot.plot_images(images_list,labels=labels,img_width=180)"
   ]
  },
  {
   "cell_type": "code",
   "execution_count": null,
   "metadata": {},
   "outputs": [],
   "source": [
    "# Image Contrast\n",
    "contrast=iaa.GammaContrast((0.5, 2.0))\n",
    "contrast_sig = iaa.SigmoidContrast(gain=(5, 10), cutoff=(0.4, 0.6))\n",
    "contrast_lin = iaa.LinearContrast((0.6, 0.4))\n",
    "input_contrast = contrast.augment_image(input_img)\n",
    "sigmoid_contrast = contrast_sig.augment_image(input_img)\n",
    "linear_contrast = contrast_lin.augment_image(input_img)\n",
    "images_list=[input_img, input_contrast,sigmoid_contrast,linear_contrast]\n",
    "labels = ['Original', 'Gamma Contrast','SigmoidContrast','LinearContrast']\n",
    "ipyplot.plot_images(images_list,labels=labels,img_width=180)\n"
   ]
  },
  {
   "cell_type": "code",
   "execution_count": null,
   "metadata": {},
   "outputs": [],
   "source": [
    "\n",
    "# Image Transformations\n",
    "\n",
    "\n",
    "elastic = iaa.ElasticTransformation(alpha=60.0, sigma=4.0)\n",
    "polar = iaa.WithPolarWarping(iaa.CropAndPad(percent=(-0.2, 0.7)))\n",
    "jigsaw = iaa.Jigsaw(nb_rows=20, nb_cols=15, max_steps=(3, 7))\n",
    "input_elastic = elastic.augment_image(input_img)\n",
    "input_polar = polar.augment_image(input_img)\n",
    "input_jigsaw = jigsaw.augment_image(input_img)\n",
    "images_list=[input_img, input_elastic,input_polar,input_jigsaw]\n",
    "labels = ['Original', 'elastic','polar','jigsaw']\n",
    "ipyplot.plot_images(images_list,labels=labels,img_width=180)\n"
   ]
  },
  {
   "cell_type": "code",
   "execution_count": null,
   "metadata": {},
   "outputs": [],
   "source": []
  },
  {
   "cell_type": "code",
   "execution_count": null,
   "metadata": {},
   "outputs": [],
   "source": []
  },
  {
   "cell_type": "code",
   "execution_count": null,
   "metadata": {},
   "outputs": [],
   "source": []
  }
 ],
 "metadata": {
  "language_info": {
   "name": "python"
  }
 },
 "nbformat": 4,
 "nbformat_minor": 2
}
